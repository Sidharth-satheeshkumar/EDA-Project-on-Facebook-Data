{
  "nbformat": 4,
  "nbformat_minor": 0,
  "metadata": {
    "colab": {
      "name": "Faebook_Analysis.ipynb",
      "provenance": [],
      "collapsed_sections": [],
      "authorship_tag": "ABX9TyMBMyiuds420JMXueHjXuw/",
      "include_colab_link": true
    },
    "kernelspec": {
      "name": "python3",
      "display_name": "Python 3"
    },
    "language_info": {
      "name": "python"
    }
  },
  "cells": [
    {
      "cell_type": "markdown",
      "metadata": {
        "id": "view-in-github",
        "colab_type": "text"
      },
      "source": [
        "<a href=\"https://colab.research.google.com/github/Sidharth-satheeshkumar/EDA-Project-on-Facebook-Data/blob/main/Faebook_Analysis.ipynb\" target=\"_parent\"><img src=\"https://colab.research.google.com/assets/colab-badge.svg\" alt=\"Open In Colab\"/></a>"
      ]
    },
    {
      "cell_type": "markdown",
      "metadata": {
        "id": "uKpRsBenv0aX"
      },
      "source": [
        "# Project Description\n",
        "\n",
        "*   The main goal of this project is to perform exploratory data analysis on facebook data which consist of the information about facebook users and the details about their facebook usage.\n",
        "*   The dataset used for this project is collected from the Kaggle.\n",
        "\n"
      ]
    },
    {
      "cell_type": "markdown",
      "metadata": {
        "id": "kqL-GHwb6jQ_"
      },
      "source": [
        "# Procedure"
      ]
    },
    {
      "cell_type": "markdown",
      "metadata": {
        "id": "-3BOroQF98JO"
      },
      "source": [
        "\n",
        "\n",
        "\n",
        "1.   Understand the features/columns in the dataset.\n",
        "2.   Handling missing values in the table.\n",
        "3. Interpret the insights by using certain functions/techniques.\n",
        "4.Check whether any mutual relationship/correlation among the features.\n",
        "\n",
        "\n",
        "\n",
        "\n",
        "\n"
      ]
    },
    {
      "cell_type": "code",
      "metadata": {
        "colab": {
          "base_uri": "https://localhost:8080/"
        },
        "id": "M5GrmNN2jUjM",
        "outputId": "5186739e-3c2d-439f-9f2e-1ac3f34bd775"
      },
      "source": [
        "from google.colab import drive\n",
        "drive.mount('/content/drive')"
      ],
      "execution_count": null,
      "outputs": [
        {
          "output_type": "stream",
          "name": "stdout",
          "text": [
            "Mounted at /content/drive\n"
          ]
        }
      ]
    },
    {
      "cell_type": "code",
      "metadata": {
        "id": "uAXkK9ZY1x9t"
      },
      "source": [
        "import pandas as pd"
      ],
      "execution_count": null,
      "outputs": []
    },
    {
      "cell_type": "code",
      "metadata": {
        "id": "Gm2S_eDwRIwl"
      },
      "source": [
        "import numpy as np"
      ],
      "execution_count": null,
      "outputs": []
    },
    {
      "cell_type": "code",
      "metadata": {
        "id": "xKeJeGP61M9O"
      },
      "source": [
        "data=pd.read_csv('/content/drive/MyDrive/DATASETS/pseudo_facebook.csv')"
      ],
      "execution_count": null,
      "outputs": []
    },
    {
      "cell_type": "code",
      "metadata": {
        "colab": {
          "base_uri": "https://localhost:8080/",
          "height": 421
        },
        "id": "jhr1DseH1-yA",
        "outputId": "73a20c3e-6cf0-4b42-c370-18d43f62f158"
      },
      "source": [
        "data.head(12)"
      ],
      "execution_count": null,
      "outputs": [
        {
          "output_type": "execute_result",
          "data": {
            "text/html": [
              "<div>\n",
              "<style scoped>\n",
              "    .dataframe tbody tr th:only-of-type {\n",
              "        vertical-align: middle;\n",
              "    }\n",
              "\n",
              "    .dataframe tbody tr th {\n",
              "        vertical-align: top;\n",
              "    }\n",
              "\n",
              "    .dataframe thead th {\n",
              "        text-align: right;\n",
              "    }\n",
              "</style>\n",
              "<table border=\"1\" class=\"dataframe\">\n",
              "  <thead>\n",
              "    <tr style=\"text-align: right;\">\n",
              "      <th></th>\n",
              "      <th>userid</th>\n",
              "      <th>age</th>\n",
              "      <th>dob_day</th>\n",
              "      <th>dob_year</th>\n",
              "      <th>dob_month</th>\n",
              "      <th>gender</th>\n",
              "      <th>tenure</th>\n",
              "      <th>friend_count</th>\n",
              "      <th>friendships_initiated</th>\n",
              "      <th>likes</th>\n",
              "      <th>likes_received</th>\n",
              "      <th>mobile_likes</th>\n",
              "      <th>mobile_likes_received</th>\n",
              "      <th>www_likes</th>\n",
              "      <th>www_likes_received</th>\n",
              "    </tr>\n",
              "  </thead>\n",
              "  <tbody>\n",
              "    <tr>\n",
              "      <th>0</th>\n",
              "      <td>2094382</td>\n",
              "      <td>14</td>\n",
              "      <td>19</td>\n",
              "      <td>1999</td>\n",
              "      <td>11</td>\n",
              "      <td>male</td>\n",
              "      <td>266.0</td>\n",
              "      <td>0</td>\n",
              "      <td>0</td>\n",
              "      <td>0</td>\n",
              "      <td>0</td>\n",
              "      <td>0</td>\n",
              "      <td>0</td>\n",
              "      <td>0</td>\n",
              "      <td>0</td>\n",
              "    </tr>\n",
              "    <tr>\n",
              "      <th>1</th>\n",
              "      <td>1192601</td>\n",
              "      <td>14</td>\n",
              "      <td>2</td>\n",
              "      <td>1999</td>\n",
              "      <td>11</td>\n",
              "      <td>female</td>\n",
              "      <td>6.0</td>\n",
              "      <td>0</td>\n",
              "      <td>0</td>\n",
              "      <td>0</td>\n",
              "      <td>0</td>\n",
              "      <td>0</td>\n",
              "      <td>0</td>\n",
              "      <td>0</td>\n",
              "      <td>0</td>\n",
              "    </tr>\n",
              "    <tr>\n",
              "      <th>2</th>\n",
              "      <td>2083884</td>\n",
              "      <td>14</td>\n",
              "      <td>16</td>\n",
              "      <td>1999</td>\n",
              "      <td>11</td>\n",
              "      <td>male</td>\n",
              "      <td>13.0</td>\n",
              "      <td>0</td>\n",
              "      <td>0</td>\n",
              "      <td>0</td>\n",
              "      <td>0</td>\n",
              "      <td>0</td>\n",
              "      <td>0</td>\n",
              "      <td>0</td>\n",
              "      <td>0</td>\n",
              "    </tr>\n",
              "    <tr>\n",
              "      <th>3</th>\n",
              "      <td>1203168</td>\n",
              "      <td>14</td>\n",
              "      <td>25</td>\n",
              "      <td>1999</td>\n",
              "      <td>12</td>\n",
              "      <td>female</td>\n",
              "      <td>93.0</td>\n",
              "      <td>0</td>\n",
              "      <td>0</td>\n",
              "      <td>0</td>\n",
              "      <td>0</td>\n",
              "      <td>0</td>\n",
              "      <td>0</td>\n",
              "      <td>0</td>\n",
              "      <td>0</td>\n",
              "    </tr>\n",
              "    <tr>\n",
              "      <th>4</th>\n",
              "      <td>1733186</td>\n",
              "      <td>14</td>\n",
              "      <td>4</td>\n",
              "      <td>1999</td>\n",
              "      <td>12</td>\n",
              "      <td>male</td>\n",
              "      <td>82.0</td>\n",
              "      <td>0</td>\n",
              "      <td>0</td>\n",
              "      <td>0</td>\n",
              "      <td>0</td>\n",
              "      <td>0</td>\n",
              "      <td>0</td>\n",
              "      <td>0</td>\n",
              "      <td>0</td>\n",
              "    </tr>\n",
              "    <tr>\n",
              "      <th>5</th>\n",
              "      <td>1524765</td>\n",
              "      <td>14</td>\n",
              "      <td>1</td>\n",
              "      <td>1999</td>\n",
              "      <td>12</td>\n",
              "      <td>male</td>\n",
              "      <td>15.0</td>\n",
              "      <td>0</td>\n",
              "      <td>0</td>\n",
              "      <td>0</td>\n",
              "      <td>0</td>\n",
              "      <td>0</td>\n",
              "      <td>0</td>\n",
              "      <td>0</td>\n",
              "      <td>0</td>\n",
              "    </tr>\n",
              "    <tr>\n",
              "      <th>6</th>\n",
              "      <td>1136133</td>\n",
              "      <td>13</td>\n",
              "      <td>14</td>\n",
              "      <td>2000</td>\n",
              "      <td>1</td>\n",
              "      <td>male</td>\n",
              "      <td>12.0</td>\n",
              "      <td>0</td>\n",
              "      <td>0</td>\n",
              "      <td>0</td>\n",
              "      <td>0</td>\n",
              "      <td>0</td>\n",
              "      <td>0</td>\n",
              "      <td>0</td>\n",
              "      <td>0</td>\n",
              "    </tr>\n",
              "    <tr>\n",
              "      <th>7</th>\n",
              "      <td>1680361</td>\n",
              "      <td>13</td>\n",
              "      <td>4</td>\n",
              "      <td>2000</td>\n",
              "      <td>1</td>\n",
              "      <td>female</td>\n",
              "      <td>0.0</td>\n",
              "      <td>0</td>\n",
              "      <td>0</td>\n",
              "      <td>0</td>\n",
              "      <td>0</td>\n",
              "      <td>0</td>\n",
              "      <td>0</td>\n",
              "      <td>0</td>\n",
              "      <td>0</td>\n",
              "    </tr>\n",
              "    <tr>\n",
              "      <th>8</th>\n",
              "      <td>1365174</td>\n",
              "      <td>13</td>\n",
              "      <td>1</td>\n",
              "      <td>2000</td>\n",
              "      <td>1</td>\n",
              "      <td>male</td>\n",
              "      <td>81.0</td>\n",
              "      <td>0</td>\n",
              "      <td>0</td>\n",
              "      <td>0</td>\n",
              "      <td>0</td>\n",
              "      <td>0</td>\n",
              "      <td>0</td>\n",
              "      <td>0</td>\n",
              "      <td>0</td>\n",
              "    </tr>\n",
              "    <tr>\n",
              "      <th>9</th>\n",
              "      <td>1712567</td>\n",
              "      <td>13</td>\n",
              "      <td>2</td>\n",
              "      <td>2000</td>\n",
              "      <td>2</td>\n",
              "      <td>male</td>\n",
              "      <td>171.0</td>\n",
              "      <td>0</td>\n",
              "      <td>0</td>\n",
              "      <td>0</td>\n",
              "      <td>0</td>\n",
              "      <td>0</td>\n",
              "      <td>0</td>\n",
              "      <td>0</td>\n",
              "      <td>0</td>\n",
              "    </tr>\n",
              "    <tr>\n",
              "      <th>10</th>\n",
              "      <td>1612453</td>\n",
              "      <td>13</td>\n",
              "      <td>22</td>\n",
              "      <td>2000</td>\n",
              "      <td>2</td>\n",
              "      <td>male</td>\n",
              "      <td>98.0</td>\n",
              "      <td>0</td>\n",
              "      <td>0</td>\n",
              "      <td>0</td>\n",
              "      <td>0</td>\n",
              "      <td>0</td>\n",
              "      <td>0</td>\n",
              "      <td>0</td>\n",
              "      <td>0</td>\n",
              "    </tr>\n",
              "    <tr>\n",
              "      <th>11</th>\n",
              "      <td>2104073</td>\n",
              "      <td>13</td>\n",
              "      <td>1</td>\n",
              "      <td>2000</td>\n",
              "      <td>2</td>\n",
              "      <td>male</td>\n",
              "      <td>55.0</td>\n",
              "      <td>0</td>\n",
              "      <td>0</td>\n",
              "      <td>0</td>\n",
              "      <td>0</td>\n",
              "      <td>0</td>\n",
              "      <td>0</td>\n",
              "      <td>0</td>\n",
              "      <td>0</td>\n",
              "    </tr>\n",
              "  </tbody>\n",
              "</table>\n",
              "</div>"
            ],
            "text/plain": [
              "     userid  age  dob_day  ...  mobile_likes_received  www_likes www_likes_received\n",
              "0   2094382   14       19  ...                      0          0                  0\n",
              "1   1192601   14        2  ...                      0          0                  0\n",
              "2   2083884   14       16  ...                      0          0                  0\n",
              "3   1203168   14       25  ...                      0          0                  0\n",
              "4   1733186   14        4  ...                      0          0                  0\n",
              "5   1524765   14        1  ...                      0          0                  0\n",
              "6   1136133   13       14  ...                      0          0                  0\n",
              "7   1680361   13        4  ...                      0          0                  0\n",
              "8   1365174   13        1  ...                      0          0                  0\n",
              "9   1712567   13        2  ...                      0          0                  0\n",
              "10  1612453   13       22  ...                      0          0                  0\n",
              "11  2104073   13        1  ...                      0          0                  0\n",
              "\n",
              "[12 rows x 15 columns]"
            ]
          },
          "metadata": {},
          "execution_count": 5
        }
      ]
    },
    {
      "cell_type": "code",
      "metadata": {
        "colab": {
          "base_uri": "https://localhost:8080/"
        },
        "id": "jjcYvnaA24lX",
        "outputId": "fe991fb3-4fab-4860-a7f8-a3b390e24e26"
      },
      "source": [
        "data.columns  # Fetching the features from the dataset"
      ],
      "execution_count": null,
      "outputs": [
        {
          "output_type": "execute_result",
          "data": {
            "text/plain": [
              "Index(['userid', 'age', 'dob_day', 'dob_year', 'dob_month', 'gender', 'tenure',\n",
              "       'friend_count', 'friendships_initiated', 'likes', 'likes_received',\n",
              "       'mobile_likes', 'mobile_likes_received', 'www_likes',\n",
              "       'www_likes_received'],\n",
              "      dtype='object')"
            ]
          },
          "metadata": {
            "tags": []
          },
          "execution_count": 45
        }
      ]
    },
    {
      "cell_type": "markdown",
      "metadata": {
        "id": "7bmixH2VVvTx"
      },
      "source": [
        "# Feature Description\n",
        "\n",
        "\n",
        "\n",
        "1.   userid : - Facebook ID of each user in the dataset.\n",
        "2.   age    :-  Age of the user.\n",
        "3.  dob_day :-  Day of birth of the user.\n",
        "4. dob_year :-  Year of birth of the user.\n",
        "5. dob_month :- Month of birth of the user.\n",
        "6. gender   :- The gender\n",
        "7. tenure   :- The total working days of each user who spent for their job.\n",
        "8. friend_count :- Total number of friends of each user.\n",
        "9. friendships_initiated :- Friendship request initiated by each user in numbers.\n",
        "10.likes :- Total number of likes given to other users by each user.\n",
        "11.likes_received :- Total number of likes recieved to each corresponding user.\n",
        "12.mobile_likes :- Total number of likes given to other users by each user through their facebook app in mobilephones.\n",
        "13.mobile_likes_received :- Total number of likes recieved to each user through their facebook app in mobilephones.\n",
        "14.www_likes :- Total number of likes given to other users by each user through the facebook web.\n",
        "15. www_likes_received :- Total number of likes recieved to each user through\n",
        "the facebook web.\n"
      ]
    },
    {
      "cell_type": "markdown",
      "metadata": {
        "id": "XSAm_0BSdkkf"
      },
      "source": [
        "# Handling Missing Values"
      ]
    },
    {
      "cell_type": "code",
      "metadata": {
        "colab": {
          "base_uri": "https://localhost:8080/"
        },
        "id": "IvLGtN3f5b36",
        "outputId": "416481e8-5c53-47f7-e69e-bc77e40c06dc"
      },
      "source": [
        "for i in data.columns:\n",
        "    print(i,':',data[i].isna().sum())"
      ],
      "execution_count": null,
      "outputs": [
        {
          "output_type": "stream",
          "text": [
            "userid : 0\n",
            "age : 0\n",
            "dob_day : 0\n",
            "dob_year : 0\n",
            "dob_month : 0\n",
            "gender : 175\n",
            "tenure : 2\n",
            "friend_count : 0\n",
            "friendships_initiated : 0\n",
            "likes : 0\n",
            "likes_received : 0\n",
            "mobile_likes : 0\n",
            "mobile_likes_received : 0\n",
            "www_likes : 0\n",
            "www_likes_received : 0\n"
          ],
          "name": "stdout"
        }
      ]
    },
    {
      "cell_type": "markdown",
      "metadata": {
        "id": "f3pPmJz5_Unq"
      },
      "source": [
        "Handling Tenure column"
      ]
    },
    {
      "cell_type": "code",
      "metadata": {
        "colab": {
          "base_uri": "https://localhost:8080/"
        },
        "id": "_wfH3nM1Tj5f",
        "outputId": "19f674ed-adf8-4fe9-aebe-9f75edecc781"
      },
      "source": [
        "data['tenure'].mean()\n"
      ],
      "execution_count": null,
      "outputs": [
        {
          "output_type": "execute_result",
          "data": {
            "text/plain": [
              "537.8873748750012"
            ]
          },
          "metadata": {
            "tags": []
          },
          "execution_count": 47
        }
      ]
    },
    {
      "cell_type": "code",
      "metadata": {
        "id": "gY5wFNdgXDN7"
      },
      "source": [
        "data['tenure'].fillna(value=537.8873748750012,inplace=True) # Substituting the mean value of that column to the missing entries of that particular column"
      ],
      "execution_count": null,
      "outputs": []
    },
    {
      "cell_type": "markdown",
      "metadata": {
        "id": "anrNe_Rt_lEv"
      },
      "source": [
        "Handling gender column"
      ]
    },
    {
      "cell_type": "code",
      "metadata": {
        "colab": {
          "base_uri": "https://localhost:8080/"
        },
        "id": "5p8Ze0AcYzLI",
        "outputId": "442906c5-9c85-42a0-ad58-52f5e31e74dd"
      },
      "source": [
        "data['gender'].isna().sum()"
      ],
      "execution_count": null,
      "outputs": [
        {
          "output_type": "execute_result",
          "data": {
            "text/plain": [
              "175"
            ]
          },
          "metadata": {
            "tags": []
          },
          "execution_count": 49
        }
      ]
    },
    {
      "cell_type": "code",
      "metadata": {
        "id": "0U58C5c6zBao"
      },
      "source": [
        "new_data=data.dropna(axis=0)  # dropping the complete null values from the dataset"
      ],
      "execution_count": null,
      "outputs": []
    },
    {
      "cell_type": "code",
      "metadata": {
        "id": "QcPvlwG9zOrN",
        "colab": {
          "base_uri": "https://localhost:8080/",
          "height": 419
        },
        "outputId": "e3e2f1c4-e9bf-451e-8adb-92e611e42174"
      },
      "source": [
        "new_data"
      ],
      "execution_count": null,
      "outputs": [
        {
          "output_type": "execute_result",
          "data": {
            "text/html": [
              "<div>\n",
              "<style scoped>\n",
              "    .dataframe tbody tr th:only-of-type {\n",
              "        vertical-align: middle;\n",
              "    }\n",
              "\n",
              "    .dataframe tbody tr th {\n",
              "        vertical-align: top;\n",
              "    }\n",
              "\n",
              "    .dataframe thead th {\n",
              "        text-align: right;\n",
              "    }\n",
              "</style>\n",
              "<table border=\"1\" class=\"dataframe\">\n",
              "  <thead>\n",
              "    <tr style=\"text-align: right;\">\n",
              "      <th></th>\n",
              "      <th>userid</th>\n",
              "      <th>age</th>\n",
              "      <th>dob_day</th>\n",
              "      <th>dob_year</th>\n",
              "      <th>dob_month</th>\n",
              "      <th>gender</th>\n",
              "      <th>tenure</th>\n",
              "      <th>friend_count</th>\n",
              "      <th>friendships_initiated</th>\n",
              "      <th>likes</th>\n",
              "      <th>likes_received</th>\n",
              "      <th>mobile_likes</th>\n",
              "      <th>mobile_likes_received</th>\n",
              "      <th>www_likes</th>\n",
              "      <th>www_likes_received</th>\n",
              "    </tr>\n",
              "  </thead>\n",
              "  <tbody>\n",
              "    <tr>\n",
              "      <th>0</th>\n",
              "      <td>2094382</td>\n",
              "      <td>14</td>\n",
              "      <td>19</td>\n",
              "      <td>1999</td>\n",
              "      <td>11</td>\n",
              "      <td>male</td>\n",
              "      <td>266.0</td>\n",
              "      <td>0</td>\n",
              "      <td>0</td>\n",
              "      <td>0</td>\n",
              "      <td>0</td>\n",
              "      <td>0</td>\n",
              "      <td>0</td>\n",
              "      <td>0</td>\n",
              "      <td>0</td>\n",
              "    </tr>\n",
              "    <tr>\n",
              "      <th>1</th>\n",
              "      <td>1192601</td>\n",
              "      <td>14</td>\n",
              "      <td>2</td>\n",
              "      <td>1999</td>\n",
              "      <td>11</td>\n",
              "      <td>female</td>\n",
              "      <td>6.0</td>\n",
              "      <td>0</td>\n",
              "      <td>0</td>\n",
              "      <td>0</td>\n",
              "      <td>0</td>\n",
              "      <td>0</td>\n",
              "      <td>0</td>\n",
              "      <td>0</td>\n",
              "      <td>0</td>\n",
              "    </tr>\n",
              "    <tr>\n",
              "      <th>2</th>\n",
              "      <td>2083884</td>\n",
              "      <td>14</td>\n",
              "      <td>16</td>\n",
              "      <td>1999</td>\n",
              "      <td>11</td>\n",
              "      <td>male</td>\n",
              "      <td>13.0</td>\n",
              "      <td>0</td>\n",
              "      <td>0</td>\n",
              "      <td>0</td>\n",
              "      <td>0</td>\n",
              "      <td>0</td>\n",
              "      <td>0</td>\n",
              "      <td>0</td>\n",
              "      <td>0</td>\n",
              "    </tr>\n",
              "    <tr>\n",
              "      <th>3</th>\n",
              "      <td>1203168</td>\n",
              "      <td>14</td>\n",
              "      <td>25</td>\n",
              "      <td>1999</td>\n",
              "      <td>12</td>\n",
              "      <td>female</td>\n",
              "      <td>93.0</td>\n",
              "      <td>0</td>\n",
              "      <td>0</td>\n",
              "      <td>0</td>\n",
              "      <td>0</td>\n",
              "      <td>0</td>\n",
              "      <td>0</td>\n",
              "      <td>0</td>\n",
              "      <td>0</td>\n",
              "    </tr>\n",
              "    <tr>\n",
              "      <th>4</th>\n",
              "      <td>1733186</td>\n",
              "      <td>14</td>\n",
              "      <td>4</td>\n",
              "      <td>1999</td>\n",
              "      <td>12</td>\n",
              "      <td>male</td>\n",
              "      <td>82.0</td>\n",
              "      <td>0</td>\n",
              "      <td>0</td>\n",
              "      <td>0</td>\n",
              "      <td>0</td>\n",
              "      <td>0</td>\n",
              "      <td>0</td>\n",
              "      <td>0</td>\n",
              "      <td>0</td>\n",
              "    </tr>\n",
              "    <tr>\n",
              "      <th>...</th>\n",
              "      <td>...</td>\n",
              "      <td>...</td>\n",
              "      <td>...</td>\n",
              "      <td>...</td>\n",
              "      <td>...</td>\n",
              "      <td>...</td>\n",
              "      <td>...</td>\n",
              "      <td>...</td>\n",
              "      <td>...</td>\n",
              "      <td>...</td>\n",
              "      <td>...</td>\n",
              "      <td>...</td>\n",
              "      <td>...</td>\n",
              "      <td>...</td>\n",
              "      <td>...</td>\n",
              "    </tr>\n",
              "    <tr>\n",
              "      <th>98998</th>\n",
              "      <td>1268299</td>\n",
              "      <td>68</td>\n",
              "      <td>4</td>\n",
              "      <td>1945</td>\n",
              "      <td>4</td>\n",
              "      <td>female</td>\n",
              "      <td>541.0</td>\n",
              "      <td>2118</td>\n",
              "      <td>341</td>\n",
              "      <td>3996</td>\n",
              "      <td>18089</td>\n",
              "      <td>3505</td>\n",
              "      <td>11887</td>\n",
              "      <td>491</td>\n",
              "      <td>6202</td>\n",
              "    </tr>\n",
              "    <tr>\n",
              "      <th>98999</th>\n",
              "      <td>1256153</td>\n",
              "      <td>18</td>\n",
              "      <td>12</td>\n",
              "      <td>1995</td>\n",
              "      <td>3</td>\n",
              "      <td>female</td>\n",
              "      <td>21.0</td>\n",
              "      <td>1968</td>\n",
              "      <td>1720</td>\n",
              "      <td>4401</td>\n",
              "      <td>13412</td>\n",
              "      <td>4399</td>\n",
              "      <td>10592</td>\n",
              "      <td>2</td>\n",
              "      <td>2820</td>\n",
              "    </tr>\n",
              "    <tr>\n",
              "      <th>99000</th>\n",
              "      <td>1195943</td>\n",
              "      <td>15</td>\n",
              "      <td>10</td>\n",
              "      <td>1998</td>\n",
              "      <td>5</td>\n",
              "      <td>female</td>\n",
              "      <td>111.0</td>\n",
              "      <td>2002</td>\n",
              "      <td>1524</td>\n",
              "      <td>11959</td>\n",
              "      <td>12554</td>\n",
              "      <td>11959</td>\n",
              "      <td>11462</td>\n",
              "      <td>0</td>\n",
              "      <td>1092</td>\n",
              "    </tr>\n",
              "    <tr>\n",
              "      <th>99001</th>\n",
              "      <td>1468023</td>\n",
              "      <td>23</td>\n",
              "      <td>11</td>\n",
              "      <td>1990</td>\n",
              "      <td>4</td>\n",
              "      <td>female</td>\n",
              "      <td>416.0</td>\n",
              "      <td>2560</td>\n",
              "      <td>185</td>\n",
              "      <td>4506</td>\n",
              "      <td>6516</td>\n",
              "      <td>4506</td>\n",
              "      <td>5760</td>\n",
              "      <td>0</td>\n",
              "      <td>756</td>\n",
              "    </tr>\n",
              "    <tr>\n",
              "      <th>99002</th>\n",
              "      <td>1397896</td>\n",
              "      <td>39</td>\n",
              "      <td>15</td>\n",
              "      <td>1974</td>\n",
              "      <td>5</td>\n",
              "      <td>female</td>\n",
              "      <td>397.0</td>\n",
              "      <td>2049</td>\n",
              "      <td>768</td>\n",
              "      <td>9410</td>\n",
              "      <td>12443</td>\n",
              "      <td>9410</td>\n",
              "      <td>9530</td>\n",
              "      <td>0</td>\n",
              "      <td>2913</td>\n",
              "    </tr>\n",
              "  </tbody>\n",
              "</table>\n",
              "<p>98828 rows × 15 columns</p>\n",
              "</div>"
            ],
            "text/plain": [
              "        userid  age  ...  www_likes  www_likes_received\n",
              "0      2094382   14  ...          0                   0\n",
              "1      1192601   14  ...          0                   0\n",
              "2      2083884   14  ...          0                   0\n",
              "3      1203168   14  ...          0                   0\n",
              "4      1733186   14  ...          0                   0\n",
              "...        ...  ...  ...        ...                 ...\n",
              "98998  1268299   68  ...        491                6202\n",
              "98999  1256153   18  ...          2                2820\n",
              "99000  1195943   15  ...          0                1092\n",
              "99001  1468023   23  ...          0                 756\n",
              "99002  1397896   39  ...          0                2913\n",
              "\n",
              "[98828 rows x 15 columns]"
            ]
          },
          "metadata": {
            "tags": []
          },
          "execution_count": 51
        }
      ]
    },
    {
      "cell_type": "markdown",
      "metadata": {
        "id": "Kk4VOoP905Up"
      },
      "source": [
        "\n",
        "\n",
        "\n",
        "\n",
        "\n",
        "*   .Tenure column contains the total number of working days of each facebook user\n",
        "*    We'll convert these days values to year value for better understanding\n",
        "\n",
        "\n",
        "\n"
      ]
    },
    {
      "cell_type": "code",
      "metadata": {
        "id": "UtFPIIM7ehUT",
        "colab": {
          "base_uri": "https://localhost:8080/"
        },
        "outputId": "15cdcacf-b1c3-4283-8d95-7b4b82c984af"
      },
      "source": [
        "new_data['tenure']=new_data['tenure'].map(lambda x:round(x/365))"
      ],
      "execution_count": null,
      "outputs": [
        {
          "output_type": "stream",
          "text": [
            "/usr/local/lib/python3.7/dist-packages/ipykernel_launcher.py:1: SettingWithCopyWarning: \n",
            "A value is trying to be set on a copy of a slice from a DataFrame.\n",
            "Try using .loc[row_indexer,col_indexer] = value instead\n",
            "\n",
            "See the caveats in the documentation: https://pandas.pydata.org/pandas-docs/stable/user_guide/indexing.html#returning-a-view-versus-a-copy\n",
            "  \"\"\"Entry point for launching an IPython kernel.\n"
          ],
          "name": "stderr"
        }
      ]
    },
    {
      "cell_type": "code",
      "metadata": {
        "id": "Wb44MDYRsygM",
        "colab": {
          "base_uri": "https://localhost:8080/",
          "height": 419
        },
        "outputId": "2cdf4a20-1ee5-4c1d-8d30-03af984cba77"
      },
      "source": [
        "new_data"
      ],
      "execution_count": null,
      "outputs": [
        {
          "output_type": "execute_result",
          "data": {
            "text/html": [
              "<div>\n",
              "<style scoped>\n",
              "    .dataframe tbody tr th:only-of-type {\n",
              "        vertical-align: middle;\n",
              "    }\n",
              "\n",
              "    .dataframe tbody tr th {\n",
              "        vertical-align: top;\n",
              "    }\n",
              "\n",
              "    .dataframe thead th {\n",
              "        text-align: right;\n",
              "    }\n",
              "</style>\n",
              "<table border=\"1\" class=\"dataframe\">\n",
              "  <thead>\n",
              "    <tr style=\"text-align: right;\">\n",
              "      <th></th>\n",
              "      <th>userid</th>\n",
              "      <th>age</th>\n",
              "      <th>dob_day</th>\n",
              "      <th>dob_year</th>\n",
              "      <th>dob_month</th>\n",
              "      <th>gender</th>\n",
              "      <th>tenure</th>\n",
              "      <th>friend_count</th>\n",
              "      <th>friendships_initiated</th>\n",
              "      <th>likes</th>\n",
              "      <th>likes_received</th>\n",
              "      <th>mobile_likes</th>\n",
              "      <th>mobile_likes_received</th>\n",
              "      <th>www_likes</th>\n",
              "      <th>www_likes_received</th>\n",
              "    </tr>\n",
              "  </thead>\n",
              "  <tbody>\n",
              "    <tr>\n",
              "      <th>0</th>\n",
              "      <td>2094382</td>\n",
              "      <td>14</td>\n",
              "      <td>19</td>\n",
              "      <td>1999</td>\n",
              "      <td>11</td>\n",
              "      <td>male</td>\n",
              "      <td>1</td>\n",
              "      <td>0</td>\n",
              "      <td>0</td>\n",
              "      <td>0</td>\n",
              "      <td>0</td>\n",
              "      <td>0</td>\n",
              "      <td>0</td>\n",
              "      <td>0</td>\n",
              "      <td>0</td>\n",
              "    </tr>\n",
              "    <tr>\n",
              "      <th>1</th>\n",
              "      <td>1192601</td>\n",
              "      <td>14</td>\n",
              "      <td>2</td>\n",
              "      <td>1999</td>\n",
              "      <td>11</td>\n",
              "      <td>female</td>\n",
              "      <td>0</td>\n",
              "      <td>0</td>\n",
              "      <td>0</td>\n",
              "      <td>0</td>\n",
              "      <td>0</td>\n",
              "      <td>0</td>\n",
              "      <td>0</td>\n",
              "      <td>0</td>\n",
              "      <td>0</td>\n",
              "    </tr>\n",
              "    <tr>\n",
              "      <th>2</th>\n",
              "      <td>2083884</td>\n",
              "      <td>14</td>\n",
              "      <td>16</td>\n",
              "      <td>1999</td>\n",
              "      <td>11</td>\n",
              "      <td>male</td>\n",
              "      <td>0</td>\n",
              "      <td>0</td>\n",
              "      <td>0</td>\n",
              "      <td>0</td>\n",
              "      <td>0</td>\n",
              "      <td>0</td>\n",
              "      <td>0</td>\n",
              "      <td>0</td>\n",
              "      <td>0</td>\n",
              "    </tr>\n",
              "    <tr>\n",
              "      <th>3</th>\n",
              "      <td>1203168</td>\n",
              "      <td>14</td>\n",
              "      <td>25</td>\n",
              "      <td>1999</td>\n",
              "      <td>12</td>\n",
              "      <td>female</td>\n",
              "      <td>0</td>\n",
              "      <td>0</td>\n",
              "      <td>0</td>\n",
              "      <td>0</td>\n",
              "      <td>0</td>\n",
              "      <td>0</td>\n",
              "      <td>0</td>\n",
              "      <td>0</td>\n",
              "      <td>0</td>\n",
              "    </tr>\n",
              "    <tr>\n",
              "      <th>4</th>\n",
              "      <td>1733186</td>\n",
              "      <td>14</td>\n",
              "      <td>4</td>\n",
              "      <td>1999</td>\n",
              "      <td>12</td>\n",
              "      <td>male</td>\n",
              "      <td>0</td>\n",
              "      <td>0</td>\n",
              "      <td>0</td>\n",
              "      <td>0</td>\n",
              "      <td>0</td>\n",
              "      <td>0</td>\n",
              "      <td>0</td>\n",
              "      <td>0</td>\n",
              "      <td>0</td>\n",
              "    </tr>\n",
              "    <tr>\n",
              "      <th>...</th>\n",
              "      <td>...</td>\n",
              "      <td>...</td>\n",
              "      <td>...</td>\n",
              "      <td>...</td>\n",
              "      <td>...</td>\n",
              "      <td>...</td>\n",
              "      <td>...</td>\n",
              "      <td>...</td>\n",
              "      <td>...</td>\n",
              "      <td>...</td>\n",
              "      <td>...</td>\n",
              "      <td>...</td>\n",
              "      <td>...</td>\n",
              "      <td>...</td>\n",
              "      <td>...</td>\n",
              "    </tr>\n",
              "    <tr>\n",
              "      <th>98998</th>\n",
              "      <td>1268299</td>\n",
              "      <td>68</td>\n",
              "      <td>4</td>\n",
              "      <td>1945</td>\n",
              "      <td>4</td>\n",
              "      <td>female</td>\n",
              "      <td>1</td>\n",
              "      <td>2118</td>\n",
              "      <td>341</td>\n",
              "      <td>3996</td>\n",
              "      <td>18089</td>\n",
              "      <td>3505</td>\n",
              "      <td>11887</td>\n",
              "      <td>491</td>\n",
              "      <td>6202</td>\n",
              "    </tr>\n",
              "    <tr>\n",
              "      <th>98999</th>\n",
              "      <td>1256153</td>\n",
              "      <td>18</td>\n",
              "      <td>12</td>\n",
              "      <td>1995</td>\n",
              "      <td>3</td>\n",
              "      <td>female</td>\n",
              "      <td>0</td>\n",
              "      <td>1968</td>\n",
              "      <td>1720</td>\n",
              "      <td>4401</td>\n",
              "      <td>13412</td>\n",
              "      <td>4399</td>\n",
              "      <td>10592</td>\n",
              "      <td>2</td>\n",
              "      <td>2820</td>\n",
              "    </tr>\n",
              "    <tr>\n",
              "      <th>99000</th>\n",
              "      <td>1195943</td>\n",
              "      <td>15</td>\n",
              "      <td>10</td>\n",
              "      <td>1998</td>\n",
              "      <td>5</td>\n",
              "      <td>female</td>\n",
              "      <td>0</td>\n",
              "      <td>2002</td>\n",
              "      <td>1524</td>\n",
              "      <td>11959</td>\n",
              "      <td>12554</td>\n",
              "      <td>11959</td>\n",
              "      <td>11462</td>\n",
              "      <td>0</td>\n",
              "      <td>1092</td>\n",
              "    </tr>\n",
              "    <tr>\n",
              "      <th>99001</th>\n",
              "      <td>1468023</td>\n",
              "      <td>23</td>\n",
              "      <td>11</td>\n",
              "      <td>1990</td>\n",
              "      <td>4</td>\n",
              "      <td>female</td>\n",
              "      <td>1</td>\n",
              "      <td>2560</td>\n",
              "      <td>185</td>\n",
              "      <td>4506</td>\n",
              "      <td>6516</td>\n",
              "      <td>4506</td>\n",
              "      <td>5760</td>\n",
              "      <td>0</td>\n",
              "      <td>756</td>\n",
              "    </tr>\n",
              "    <tr>\n",
              "      <th>99002</th>\n",
              "      <td>1397896</td>\n",
              "      <td>39</td>\n",
              "      <td>15</td>\n",
              "      <td>1974</td>\n",
              "      <td>5</td>\n",
              "      <td>female</td>\n",
              "      <td>1</td>\n",
              "      <td>2049</td>\n",
              "      <td>768</td>\n",
              "      <td>9410</td>\n",
              "      <td>12443</td>\n",
              "      <td>9410</td>\n",
              "      <td>9530</td>\n",
              "      <td>0</td>\n",
              "      <td>2913</td>\n",
              "    </tr>\n",
              "  </tbody>\n",
              "</table>\n",
              "<p>98828 rows × 15 columns</p>\n",
              "</div>"
            ],
            "text/plain": [
              "        userid  age  ...  www_likes  www_likes_received\n",
              "0      2094382   14  ...          0                   0\n",
              "1      1192601   14  ...          0                   0\n",
              "2      2083884   14  ...          0                   0\n",
              "3      1203168   14  ...          0                   0\n",
              "4      1733186   14  ...          0                   0\n",
              "...        ...  ...  ...        ...                 ...\n",
              "98998  1268299   68  ...        491                6202\n",
              "98999  1256153   18  ...          2                2820\n",
              "99000  1195943   15  ...          0                1092\n",
              "99001  1468023   23  ...          0                 756\n",
              "99002  1397896   39  ...          0                2913\n",
              "\n",
              "[98828 rows x 15 columns]"
            ]
          },
          "metadata": {
            "tags": []
          },
          "execution_count": 53
        }
      ]
    },
    {
      "cell_type": "code",
      "metadata": {
        "id": "cEuXdXAR0SZ0",
        "colab": {
          "base_uri": "https://localhost:8080/"
        },
        "outputId": "ae577ad2-6ac0-4e87-a33c-05159fdfb33e"
      },
      "source": [
        "new_data.shape"
      ],
      "execution_count": null,
      "outputs": [
        {
          "output_type": "execute_result",
          "data": {
            "text/plain": [
              "(98828, 15)"
            ]
          },
          "metadata": {
            "tags": []
          },
          "execution_count": 54
        }
      ]
    },
    {
      "cell_type": "code",
      "metadata": {
        "id": "p52WipqAbqHl",
        "colab": {
          "base_uri": "https://localhost:8080/"
        },
        "outputId": "9a7d165b-9c5a-407d-e753-3fa4e6798364"
      },
      "source": [
        "new_data[new_data['gender']=='male'].shape  # Identify the total rows of male users"
      ],
      "execution_count": null,
      "outputs": [
        {
          "output_type": "execute_result",
          "data": {
            "text/plain": [
              "(58574, 15)"
            ]
          },
          "metadata": {
            "tags": []
          },
          "execution_count": 55
        }
      ]
    },
    {
      "cell_type": "code",
      "metadata": {
        "id": "75m7qVflbw2S",
        "colab": {
          "base_uri": "https://localhost:8080/"
        },
        "outputId": "67178a94-f8b5-47e4-a008-a32c28022c12"
      },
      "source": [
        "new_data[new_data['gender']=='female'].shape   #  Identify the total rows of female users"
      ],
      "execution_count": null,
      "outputs": [
        {
          "output_type": "execute_result",
          "data": {
            "text/plain": [
              "(40254, 15)"
            ]
          },
          "metadata": {
            "tags": []
          },
          "execution_count": 56
        }
      ]
    },
    {
      "cell_type": "markdown",
      "metadata": {
        "id": "auYCnyD841um"
      },
      "source": [
        "\n",
        "\n",
        "*   Inorder to find the facebook usage among men and women we categorize the gender feature/column into 'male' and 'female' and find the overall behaviour of each corresponding gender.\n",
        "\n",
        "*   There are 58574 entries of male users and 40254 entries of female users in the whole dataset.\n",
        "*  The total number of male users in Facebook is 18.5% greater than the number of female users.\n",
        "\n",
        "\n",
        "\n",
        "\n",
        "\n",
        "\n",
        "\n",
        " \n",
        "\n"
      ]
    },
    {
      "cell_type": "markdown",
      "metadata": {
        "id": "8gdI3hfOYkme"
      },
      "source": [
        "# Splitting the gender feature\n",
        "\n",
        "*   To find the exact pattern among the users we split the gender feature into male and female and store each gender in seperate dataframes.\n",
        "\n",
        "\n"
      ]
    },
    {
      "cell_type": "markdown",
      "metadata": {
        "id": "osqTit_XBx9S"
      },
      "source": [
        "Average of each selected feature of male users."
      ]
    },
    {
      "cell_type": "code",
      "metadata": {
        "id": "nkk81peiXaku"
      },
      "source": [
        "male_data=new_data[new_data['gender']=='male']"
      ],
      "execution_count": null,
      "outputs": []
    },
    {
      "cell_type": "code",
      "metadata": {
        "id": "lu37vR-dO3jm"
      },
      "source": [
        "average=[]\n",
        "columns =['tenure','friend_count','friendships_initiated','likes','likes_received','mobile_likes','mobile_likes_received','www_likes','www_likes_received']\n",
        "for i in columns:\n",
        "  average.append(male_data[i].mean())\n"
      ],
      "execution_count": null,
      "outputs": []
    },
    {
      "cell_type": "code",
      "metadata": {
        "id": "_yutHvOlVB3y",
        "colab": {
          "base_uri": "https://localhost:8080/"
        },
        "outputId": "12ff2cd3-502a-4cf9-8850-7ce160dc8054"
      },
      "source": [
        "np.array(average)"
      ],
      "execution_count": null,
      "outputs": [
        {
          "output_type": "execute_result",
          "data": {
            "text/plain": [
              "array([  1.36224263, 165.03545942, 103.06659952,  84.67789463,\n",
              "        67.91154779,  60.26132755,  40.83301465,  24.41655001,\n",
              "        27.07853314])"
            ]
          },
          "metadata": {
            "tags": []
          },
          "execution_count": 59
        }
      ]
    },
    {
      "cell_type": "code",
      "metadata": {
        "id": "GKkFxIMpQdPO"
      },
      "source": [
        "male_data=pd.DataFrame(data=average,index=['tenure','friend_count','friendships_initiated','likes','likes_received','mobile_likes','mobile_likes_received','www_likes','www_likes_received'],columns=['Average_value'])"
      ],
      "execution_count": null,
      "outputs": []
    },
    {
      "cell_type": "markdown",
      "metadata": {
        "id": "Zbgb8lgfCC3s"
      },
      "source": [
        "Average of each selected feature of female users."
      ]
    },
    {
      "cell_type": "code",
      "metadata": {
        "id": "KwlVXpgKY9DW"
      },
      "source": [
        "female_data=new_data[new_data['gender']=='female']"
      ],
      "execution_count": null,
      "outputs": []
    },
    {
      "cell_type": "code",
      "metadata": {
        "id": "in3eh5WLZDCf"
      },
      "source": [
        "average=[]\n",
        "columns =['tenure','friend_count','friendships_initiated','likes','likes_received','mobile_likes','mobile_likes_received','www_likes','www_likes_received']\n",
        "for i in columns:\n",
        "  average.append(female_data[i].mean())"
      ],
      "execution_count": null,
      "outputs": []
    },
    {
      "cell_type": "code",
      "metadata": {
        "id": "NzCV41meZi9R",
        "colab": {
          "base_uri": "https://localhost:8080/"
        },
        "outputId": "7f16f2ec-33ad-442d-ecbe-8adccfeceb46"
      },
      "source": [
        "np.array(average) # converting the list to array for applying advanced functions in future"
      ],
      "execution_count": null,
      "outputs": [
        {
          "output_type": "execute_result",
          "data": {
            "text/plain": [
              "array([  1.60282208, 241.96994088, 113.89909077, 260.05132409,\n",
              "       251.43543499, 172.91292791, 147.10088438,  87.13829682,\n",
              "       104.33445123])"
            ]
          },
          "metadata": {
            "tags": []
          },
          "execution_count": 63
        }
      ]
    },
    {
      "cell_type": "code",
      "metadata": {
        "id": "jwUDz6yBZw3f"
      },
      "source": [
        "female_data=pd.DataFrame(data=average,index=['tenure','friend_count','friendships_initiated','likes','likes_received','mobile_likes','mobile_likes_received','www_likes','www_likes_received'],columns=['Average_value'])"
      ],
      "execution_count": null,
      "outputs": []
    },
    {
      "cell_type": "code",
      "metadata": {
        "id": "50eq51_YaKIt",
        "colab": {
          "base_uri": "https://localhost:8080/",
          "height": 328
        },
        "outputId": "c920395f-7dc1-4699-82ca-7c2de59708a2"
      },
      "source": [
        "male_data"
      ],
      "execution_count": null,
      "outputs": [
        {
          "output_type": "execute_result",
          "data": {
            "text/html": [
              "<div>\n",
              "<style scoped>\n",
              "    .dataframe tbody tr th:only-of-type {\n",
              "        vertical-align: middle;\n",
              "    }\n",
              "\n",
              "    .dataframe tbody tr th {\n",
              "        vertical-align: top;\n",
              "    }\n",
              "\n",
              "    .dataframe thead th {\n",
              "        text-align: right;\n",
              "    }\n",
              "</style>\n",
              "<table border=\"1\" class=\"dataframe\">\n",
              "  <thead>\n",
              "    <tr style=\"text-align: right;\">\n",
              "      <th></th>\n",
              "      <th>Average_value</th>\n",
              "    </tr>\n",
              "  </thead>\n",
              "  <tbody>\n",
              "    <tr>\n",
              "      <th>tenure</th>\n",
              "      <td>1.362243</td>\n",
              "    </tr>\n",
              "    <tr>\n",
              "      <th>friend_count</th>\n",
              "      <td>165.035459</td>\n",
              "    </tr>\n",
              "    <tr>\n",
              "      <th>friendships_initiated</th>\n",
              "      <td>103.066600</td>\n",
              "    </tr>\n",
              "    <tr>\n",
              "      <th>likes</th>\n",
              "      <td>84.677895</td>\n",
              "    </tr>\n",
              "    <tr>\n",
              "      <th>likes_received</th>\n",
              "      <td>67.911548</td>\n",
              "    </tr>\n",
              "    <tr>\n",
              "      <th>mobile_likes</th>\n",
              "      <td>60.261328</td>\n",
              "    </tr>\n",
              "    <tr>\n",
              "      <th>mobile_likes_received</th>\n",
              "      <td>40.833015</td>\n",
              "    </tr>\n",
              "    <tr>\n",
              "      <th>www_likes</th>\n",
              "      <td>24.416550</td>\n",
              "    </tr>\n",
              "    <tr>\n",
              "      <th>www_likes_received</th>\n",
              "      <td>27.078533</td>\n",
              "    </tr>\n",
              "  </tbody>\n",
              "</table>\n",
              "</div>"
            ],
            "text/plain": [
              "                       Average_value\n",
              "tenure                      1.362243\n",
              "friend_count              165.035459\n",
              "friendships_initiated     103.066600\n",
              "likes                      84.677895\n",
              "likes_received             67.911548\n",
              "mobile_likes               60.261328\n",
              "mobile_likes_received      40.833015\n",
              "www_likes                  24.416550\n",
              "www_likes_received         27.078533"
            ]
          },
          "metadata": {
            "tags": []
          },
          "execution_count": 65
        }
      ]
    },
    {
      "cell_type": "code",
      "metadata": {
        "id": "gGpy7LIVaZim",
        "colab": {
          "base_uri": "https://localhost:8080/",
          "height": 328
        },
        "outputId": "809f5933-4201-43ad-eed4-da84d4af9d46"
      },
      "source": [
        "female_data"
      ],
      "execution_count": null,
      "outputs": [
        {
          "output_type": "execute_result",
          "data": {
            "text/html": [
              "<div>\n",
              "<style scoped>\n",
              "    .dataframe tbody tr th:only-of-type {\n",
              "        vertical-align: middle;\n",
              "    }\n",
              "\n",
              "    .dataframe tbody tr th {\n",
              "        vertical-align: top;\n",
              "    }\n",
              "\n",
              "    .dataframe thead th {\n",
              "        text-align: right;\n",
              "    }\n",
              "</style>\n",
              "<table border=\"1\" class=\"dataframe\">\n",
              "  <thead>\n",
              "    <tr style=\"text-align: right;\">\n",
              "      <th></th>\n",
              "      <th>Average_value</th>\n",
              "    </tr>\n",
              "  </thead>\n",
              "  <tbody>\n",
              "    <tr>\n",
              "      <th>tenure</th>\n",
              "      <td>1.602822</td>\n",
              "    </tr>\n",
              "    <tr>\n",
              "      <th>friend_count</th>\n",
              "      <td>241.969941</td>\n",
              "    </tr>\n",
              "    <tr>\n",
              "      <th>friendships_initiated</th>\n",
              "      <td>113.899091</td>\n",
              "    </tr>\n",
              "    <tr>\n",
              "      <th>likes</th>\n",
              "      <td>260.051324</td>\n",
              "    </tr>\n",
              "    <tr>\n",
              "      <th>likes_received</th>\n",
              "      <td>251.435435</td>\n",
              "    </tr>\n",
              "    <tr>\n",
              "      <th>mobile_likes</th>\n",
              "      <td>172.912928</td>\n",
              "    </tr>\n",
              "    <tr>\n",
              "      <th>mobile_likes_received</th>\n",
              "      <td>147.100884</td>\n",
              "    </tr>\n",
              "    <tr>\n",
              "      <th>www_likes</th>\n",
              "      <td>87.138297</td>\n",
              "    </tr>\n",
              "    <tr>\n",
              "      <th>www_likes_received</th>\n",
              "      <td>104.334451</td>\n",
              "    </tr>\n",
              "  </tbody>\n",
              "</table>\n",
              "</div>"
            ],
            "text/plain": [
              "                       Average_value\n",
              "tenure                      1.602822\n",
              "friend_count              241.969941\n",
              "friendships_initiated     113.899091\n",
              "likes                     260.051324\n",
              "likes_received            251.435435\n",
              "mobile_likes              172.912928\n",
              "mobile_likes_received     147.100884\n",
              "www_likes                  87.138297\n",
              "www_likes_received        104.334451"
            ]
          },
          "metadata": {
            "tags": []
          },
          "execution_count": 66
        }
      ]
    },
    {
      "cell_type": "markdown",
      "metadata": {
        "id": "Ck_1sR--ajOP"
      },
      "source": [
        "# Interpretation\n",
        "\n",
        "1.   The above two tables show the average values of each selected features of men and women respectively.\n",
        "2.   After removing the null entries from the dataset the total number of men and women in the dataset are 58574,40252 respectively.\n",
        "3. By considering the tables male_data,female_data it shows that the social media usage among women is much higher than that of men.\n",
        "\n",
        "1.   To prove this assumption we considering the 'friendships_initiated' and 'friend_count' features in male_data and female_data \n",
        "2.   16.69% of friends connected by men and 24.48%  friends connected by women from the overall facebookdata.\n",
        "\n",
        "1.   10.42% of friendship initiated by men and 11.52% friendship initiated by women \n",
        "2.   8% of likes initiated by men and 26.31% of likes initiated by women.\n",
        "\n",
        "1.   The last three points light to the behaviour of men and women towards the social media.\n",
        "2.   From the given data men have more privacy concerns than women while using the social media.\n",
        "\n",
        "\n",
        "\n",
        "\n",
        "\n",
        "\n",
        "\n",
        "\n",
        "\n"
      ]
    },
    {
      "cell_type": "markdown",
      "metadata": {
        "id": "Y0N8ShMesVEN"
      },
      "source": [
        "## Finding the reason behind the pattern"
      ]
    },
    {
      "cell_type": "markdown",
      "metadata": {
        "id": "4Aye4QDDs9i-"
      },
      "source": [
        "\n",
        "\n",
        "*   Now we are actually move on to our core section.In this section we will look for any factor/factors that  actually affect on the behavioral pattern among men and women which is lastly discussed.\n",
        "\n",
        "\n",
        "*   Using correlation plot/correlation matrix, we can find the mutual relationship(correaltion) among the features.\n",
        "*   For better understanding here we are using heatmap.\n",
        "\n",
        "*   Before moving to heatmap we are eliminating some features which are not needed/applicable for deploying heatmap.\n",
        "\n",
        "\n",
        "\n",
        "\n",
        "\n",
        "\n",
        "\n"
      ]
    },
    {
      "cell_type": "code",
      "metadata": {
        "id": "ltbjyZ3R39Bn"
      },
      "source": [
        "new_data.head()"
      ],
      "execution_count": null,
      "outputs": []
    },
    {
      "cell_type": "markdown",
      "metadata": {
        "id": "F4M9PN6g4yPp"
      },
      "source": [
        "## Features Elimination\n",
        "\n",
        "*   userid (It's a number just denoting each user in the facebook)\n",
        "*   dob_day,dob_year,dob_month (we have age as a seperate feature in our dataset. So there is no need of birth details.) \n",
        "\n"
      ]
    },
    {
      "cell_type": "code",
      "metadata": {
        "id": "77BuaY6C5j8Y"
      },
      "source": [
        "new_data=new_data.drop(columns=['userid','dob_day','dob_year','dob_month'])"
      ],
      "execution_count": null,
      "outputs": []
    },
    {
      "cell_type": "markdown",
      "metadata": {
        "id": "bTbJOC926TQ0"
      },
      "source": [
        "\n",
        "\n",
        "*   Heatmap don't accept string values from the dataset.So to resolve this issue convert 'male','female' to numerical values in the gender column.\n",
        "\n",
        "\n"
      ]
    },
    {
      "cell_type": "code",
      "metadata": {
        "id": "52cG3GZO4DXq"
      },
      "source": [
        "gender_convert={'male':1,'female':2}\n",
        "new_data['gender']=new_data['gender'].map(gender_convert)"
      ],
      "execution_count": null,
      "outputs": []
    },
    {
      "cell_type": "code",
      "metadata": {
        "id": "DlUaf9se4bct",
        "colab": {
          "base_uri": "https://localhost:8080/"
        },
        "outputId": "7705884e-819a-442b-fa7b-111945d54ec3"
      },
      "source": [
        "np.unique(new_data['gender'])"
      ],
      "execution_count": null,
      "outputs": [
        {
          "output_type": "execute_result",
          "data": {
            "text/plain": [
              "array([1, 2])"
            ]
          },
          "metadata": {
            "tags": []
          },
          "execution_count": 71
        }
      ]
    },
    {
      "cell_type": "code",
      "metadata": {
        "id": "bLQZwfG1udZA",
        "colab": {
          "base_uri": "https://localhost:8080/",
          "height": 385
        },
        "outputId": "6b756295-0b95-47e9-d884-873d6da57615"
      },
      "source": [
        "import seaborn as sns\n",
        "\n",
        "\n",
        "\n",
        "sns.heatmap(new_data.corr())"
      ],
      "execution_count": null,
      "outputs": [
        {
          "output_type": "execute_result",
          "data": {
            "text/plain": [
              "<matplotlib.axes._subplots.AxesSubplot at 0x7f968f5339d0>"
            ]
          },
          "metadata": {
            "tags": []
          },
          "execution_count": 72
        },
        {
          "output_type": "display_data",
          "data": {
            "image/png": "[encoded data removed]",
            "text/plain": [
              "<Figure size 432x288 with 2 Axes>"
            ]
          },
          "metadata": {
            "tags": [],
            "needs_background": "light"
          }
        }
      ]
    },
    {
      "cell_type": "markdown",
      "metadata": {
        "id": "3Uag1jHL9DIb"
      },
      "source": [
        "\n",
        "\n",
        "*   After creating the heatmap we don't get any vital information about the features and we will conclude with the interpretation result as we early discussed.\n",
        "\n",
        "\n"
      ]
    },
    {
      "cell_type": "markdown",
      "metadata": {
        "id": "AXV-RWIE_iAF"
      },
      "source": [
        "## References\n",
        "\n",
        "*   Dataset :-https://www.kaggle.com/sheenabatra/facebook-data\n",
        "\n",
        "\n",
        "*   Heatmap reference :-https://seaborn.pydata.org/generated/seaborn.heatmap.html\n",
        "\n",
        "\n",
        "\n",
        "\n"
      ]
    },
    {
      "cell_type": "markdown",
      "metadata": {
        "id": "-LNfeUqdAvTi"
      },
      "source": [
        "# **THANK YOU FOR YOUR TIME**"
      ]
    }
  ]
}